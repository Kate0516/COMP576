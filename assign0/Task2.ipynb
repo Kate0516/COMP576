{
 "cells": [
  {
   "cell_type": "code",
   "execution_count": 1,
   "outputs": [],
   "source": [
    "import numpy as np\n",
    "a = np.array([[1. ,2. ,3.], [4. ,5. ,6.]])"
   ],
   "metadata": {
    "collapsed": false,
    "pycharm": {
     "name": "#%%\n"
    }
   }
  },
  {
   "cell_type": "code",
   "execution_count": 2,
   "outputs": [
    {
     "data": {
      "text/plain": "2"
     },
     "execution_count": 2,
     "metadata": {},
     "output_type": "execute_result"
    }
   ],
   "source": [
    "a.ndim"
   ],
   "metadata": {
    "collapsed": false,
    "pycharm": {
     "name": "#%%\n"
    }
   }
  },
  {
   "cell_type": "code",
   "execution_count": 3,
   "outputs": [
    {
     "data": {
      "text/plain": "6"
     },
     "execution_count": 3,
     "metadata": {},
     "output_type": "execute_result"
    }
   ],
   "source": [
    "a.size"
   ],
   "metadata": {
    "collapsed": false,
    "pycharm": {
     "name": "#%%\n"
    }
   }
  },
  {
   "cell_type": "code",
   "execution_count": 4,
   "outputs": [
    {
     "data": {
      "text/plain": "(2, 3)"
     },
     "execution_count": 4,
     "metadata": {},
     "output_type": "execute_result"
    }
   ],
   "source": [
    "a.shape"
   ],
   "metadata": {
    "collapsed": false,
    "pycharm": {
     "name": "#%%\n"
    }
   }
  },
  {
   "cell_type": "code",
   "execution_count": 5,
   "outputs": [
    {
     "data": {
      "text/plain": "3"
     },
     "execution_count": 5,
     "metadata": {},
     "output_type": "execute_result"
    }
   ],
   "source": [
    "a.shape[2-1]"
   ],
   "metadata": {
    "collapsed": false,
    "pycharm": {
     "name": "#%%\n"
    }
   }
  },
  {
   "cell_type": "code",
   "execution_count": 6,
   "outputs": [
    {
     "data": {
      "text/plain": "array([[1., 2., 3.],\n       [4., 5., 6.]])"
     },
     "execution_count": 6,
     "metadata": {},
     "output_type": "execute_result"
    }
   ],
   "source": [
    "a = np.array([[1. ,2. ,3.], [4. ,5. ,6.]])\n",
    "a"
   ],
   "metadata": {
    "collapsed": false,
    "pycharm": {
     "name": "#%%\n"
    }
   }
  },
  {
   "cell_type": "code",
   "execution_count": 7,
   "outputs": [
    {
     "name": "stdout",
     "output_type": "stream",
     "text": [
      "[[[[1. 2. 3.]\n",
      "   [4. 5. 6.]]\n",
      "\n",
      "  [[1. 2. 3.]\n",
      "   [4. 5. 6.]]]\n",
      "\n",
      "\n",
      " [[[1. 2. 3.]\n",
      "   [4. 5. 6.]]\n",
      "\n",
      "  [[1. 2. 3.]\n",
      "   [4. 5. 6.]]]] (2, 2, 2, 3)\n",
      "[[1. 2. 3. 1. 2. 3.]\n",
      " [4. 5. 6. 4. 5. 6.]\n",
      " [1. 2. 3. 1. 2. 3.]\n",
      " [4. 5. 6. 4. 5. 6.]] (4, 6)\n"
     ]
    }
   ],
   "source": [
    "b = [[1. ,2. ,3.], [4. ,5. ,6]]\n",
    "c = np.block([[b, b], [b, b]])\n",
    "d = np.block([[a, a], [a, a]])\n",
    "print(c,c.shape)\n",
    "print(d,d.shape)"
   ],
   "metadata": {
    "collapsed": false,
    "pycharm": {
     "name": "#%%\n"
    }
   }
  },
  {
   "cell_type": "code",
   "execution_count": 8,
   "outputs": [
    {
     "data": {
      "text/plain": "array([4., 5., 6.])"
     },
     "execution_count": 8,
     "metadata": {},
     "output_type": "execute_result"
    }
   ],
   "source": [
    "a[-1]"
   ],
   "metadata": {
    "collapsed": false,
    "pycharm": {
     "name": "#%%\n"
    }
   }
  },
  {
   "cell_type": "code",
   "execution_count": 9,
   "outputs": [
    {
     "data": {
      "text/plain": "6.0"
     },
     "execution_count": 9,
     "metadata": {},
     "output_type": "execute_result"
    }
   ],
   "source": [
    "a[1, 2]"
   ],
   "metadata": {
    "collapsed": false,
    "pycharm": {
     "name": "#%%\n"
    }
   }
  },
  {
   "cell_type": "code",
   "execution_count": 10,
   "outputs": [
    {
     "data": {
      "text/plain": "array([4., 5., 6.])"
     },
     "execution_count": 10,
     "metadata": {},
     "output_type": "execute_result"
    }
   ],
   "source": [
    "a[1, :]"
   ],
   "metadata": {
    "collapsed": false,
    "pycharm": {
     "name": "#%%\n"
    }
   }
  },
  {
   "cell_type": "code",
   "execution_count": 11,
   "outputs": [
    {
     "data": {
      "text/plain": "array([[1., 2., 3.],\n       [4., 5., 6.]])"
     },
     "execution_count": 11,
     "metadata": {},
     "output_type": "execute_result"
    }
   ],
   "source": [
    "a[-2:]"
   ],
   "metadata": {
    "collapsed": false,
    "pycharm": {
     "name": "#%%\n"
    }
   }
  },
  {
   "cell_type": "code",
   "execution_count": 12,
   "outputs": [
    {
     "name": "stdout",
     "output_type": "stream",
     "text": [
      "[[ 0  1  2  3  4  5]\n",
      " [ 6  7  8  9 10 11]\n",
      " [12 13 14 15 16 17]\n",
      " [18 19 20 21 22 23]\n",
      " [24 25 26 27 28 29]]\n"
     ]
    },
    {
     "data": {
      "text/plain": "array([[ 4,  5],\n       [10, 11],\n       [16, 17]])"
     },
     "execution_count": 12,
     "metadata": {},
     "output_type": "execute_result"
    }
   ],
   "source": [
    "b = np.arange(30)\n",
    "b = b.reshape((5,6))\n",
    "print(b)\n",
    "b[0:3, 4:6]"
   ],
   "metadata": {
    "collapsed": false,
    "pycharm": {
     "name": "#%%\n"
    }
   }
  },
  {
   "cell_type": "code",
   "execution_count": 13,
   "outputs": [
    {
     "data": {
      "text/plain": "array([[ 6,  8],\n       [18, 20],\n       [24, 26]])"
     },
     "execution_count": 13,
     "metadata": {},
     "output_type": "execute_result"
    }
   ],
   "source": [
    "b[np.ix_([1, 3, 4], [0, 2])]"
   ],
   "metadata": {
    "collapsed": false,
    "pycharm": {
     "name": "#%%\n"
    }
   }
  },
  {
   "cell_type": "code",
   "execution_count": 14,
   "outputs": [
    {
     "data": {
      "text/plain": "array([[ 0,  1,  2,  3,  4,  5],\n       [12, 13, 14, 15, 16, 17],\n       [24, 25, 26, 27, 28, 29]])"
     },
     "execution_count": 14,
     "metadata": {},
     "output_type": "execute_result"
    }
   ],
   "source": [
    "b[0:6:2,:]"
   ],
   "metadata": {
    "collapsed": false,
    "pycharm": {
     "name": "#%%\n"
    }
   }
  },
  {
   "cell_type": "code",
   "execution_count": 15,
   "outputs": [
    {
     "data": {
      "text/plain": "array([[ 0,  1,  2,  3,  4,  5],\n       [12, 13, 14, 15, 16, 17],\n       [24, 25, 26, 27, 28, 29]])"
     },
     "execution_count": 15,
     "metadata": {},
     "output_type": "execute_result"
    }
   ],
   "source": [
    "b[ ::2,:]"
   ],
   "metadata": {
    "collapsed": false,
    "pycharm": {
     "name": "#%%\n"
    }
   }
  },
  {
   "cell_type": "code",
   "execution_count": 16,
   "outputs": [
    {
     "data": {
      "text/plain": "array([[24, 25, 26, 27, 28, 29],\n       [18, 19, 20, 21, 22, 23],\n       [12, 13, 14, 15, 16, 17],\n       [ 6,  7,  8,  9, 10, 11],\n       [ 0,  1,  2,  3,  4,  5]])"
     },
     "execution_count": 16,
     "metadata": {},
     "output_type": "execute_result"
    }
   ],
   "source": [
    "b[::-1,:]"
   ],
   "metadata": {
    "collapsed": false,
    "pycharm": {
     "name": "#%%\n"
    }
   }
  },
  {
   "cell_type": "code",
   "execution_count": 17,
   "outputs": [
    {
     "data": {
      "text/plain": "array([[ 0,  1,  2,  3,  4,  5],\n       [ 6,  7,  8,  9, 10, 11],\n       [12, 13, 14, 15, 16, 17],\n       [18, 19, 20, 21, 22, 23],\n       [24, 25, 26, 27, 28, 29],\n       [ 0,  1,  2,  3,  4,  5],\n       [ 6,  7,  8,  9, 10, 11]])"
     },
     "execution_count": 17,
     "metadata": {},
     "output_type": "execute_result"
    }
   ],
   "source": [
    "b[np.r_[:len(b),0:2]]"
   ],
   "metadata": {
    "collapsed": false,
    "pycharm": {
     "name": "#%%\n"
    }
   }
  },
  {
   "cell_type": "code",
   "execution_count": 18,
   "outputs": [
    {
     "data": {
      "text/plain": "array([[ 0,  6, 12, 18, 24],\n       [ 1,  7, 13, 19, 25],\n       [ 2,  8, 14, 20, 26],\n       [ 3,  9, 15, 21, 27],\n       [ 4, 10, 16, 22, 28],\n       [ 5, 11, 17, 23, 29]])"
     },
     "execution_count": 18,
     "metadata": {},
     "output_type": "execute_result"
    }
   ],
   "source": [
    "b.T"
   ],
   "metadata": {
    "collapsed": false,
    "pycharm": {
     "name": "#%%\n"
    }
   }
  },
  {
   "cell_type": "code",
   "execution_count": 19,
   "outputs": [
    {
     "name": "stdout",
     "output_type": "stream",
     "text": [
      "[[ 0.+1.j  1.+1.j  2.+1.j  3.+1.j  4.+1.j  5.+1.j]\n",
      " [ 6.+1.j  7.+1.j  8.+1.j  9.+1.j 10.+1.j 11.+1.j]\n",
      " [12.+1.j 13.+1.j 14.+1.j 15.+1.j 16.+1.j 17.+1.j]\n",
      " [18.+1.j 19.+1.j 20.+1.j 21.+1.j 22.+1.j 23.+1.j]\n",
      " [24.+1.j 25.+1.j 26.+1.j 27.+1.j 28.+1.j 29.+1.j]]\n"
     ]
    },
    {
     "data": {
      "text/plain": "array([[ 0.-1.j,  6.-1.j, 12.-1.j, 18.-1.j, 24.-1.j],\n       [ 1.-1.j,  7.-1.j, 13.-1.j, 19.-1.j, 25.-1.j],\n       [ 2.-1.j,  8.-1.j, 14.-1.j, 20.-1.j, 26.-1.j],\n       [ 3.-1.j,  9.-1.j, 15.-1.j, 21.-1.j, 27.-1.j],\n       [ 4.-1.j, 10.-1.j, 16.-1.j, 22.-1.j, 28.-1.j],\n       [ 5.-1.j, 11.-1.j, 17.-1.j, 23.-1.j, 29.-1.j]])"
     },
     "execution_count": 19,
     "metadata": {},
     "output_type": "execute_result"
    }
   ],
   "source": [
    "x = b + 1j\n",
    "print(x)\n",
    "x.conj().T"
   ],
   "metadata": {
    "collapsed": false,
    "pycharm": {
     "name": "#%%\n"
    }
   }
  },
  {
   "cell_type": "code",
   "execution_count": 20,
   "outputs": [
    {
     "name": "stdout",
     "output_type": "stream",
     "text": [
      "[[12. 12.]\n",
      " [30. 30.]]\n"
     ]
    },
    {
     "data": {
      "text/plain": "array([[12., 12.],\n       [30., 30.]])"
     },
     "execution_count": 20,
     "metadata": {},
     "output_type": "execute_result"
    }
   ],
   "source": [
    "c = np.ones(6)\n",
    "c = c.reshape((3,2))\n",
    "c *= 2\n",
    "a = np.array([[1. ,2. ,3.], [4. ,5. ,6.]])\n",
    "print(a @ c)\n",
    "np.dot(a,c)"
   ],
   "metadata": {
    "collapsed": false,
    "pycharm": {
     "name": "#%%\n"
    }
   }
  },
  {
   "cell_type": "code",
   "execution_count": 21,
   "outputs": [
    {
     "name": "stdout",
     "output_type": "stream",
     "text": [
      "[[ 2.  4.  6.]\n",
      " [ 8. 10. 12.]]\n"
     ]
    },
    {
     "data": {
      "text/plain": "array([[ 2.,  4.,  6.],\n       [ 8., 10., 12.]])"
     },
     "execution_count": 21,
     "metadata": {},
     "output_type": "execute_result"
    }
   ],
   "source": [
    "c = c.reshape(2,3)\n",
    "print(a * c)\n",
    "np.multiply(a,c)\n"
   ],
   "metadata": {
    "collapsed": false,
    "pycharm": {
     "name": "#%%\n"
    }
   }
  },
  {
   "cell_type": "code",
   "execution_count": 22,
   "outputs": [
    {
     "data": {
      "text/plain": "array([[0.5, 1. , 1.5],\n       [2. , 2.5, 3. ]])"
     },
     "execution_count": 22,
     "metadata": {},
     "output_type": "execute_result"
    }
   ],
   "source": [
    "a/c"
   ],
   "metadata": {
    "collapsed": false,
    "pycharm": {
     "name": "#%%\n"
    }
   }
  },
  {
   "cell_type": "code",
   "execution_count": 23,
   "outputs": [
    {
     "data": {
      "text/plain": "array([[ 1.,  4.,  9.],\n       [16., 25., 36.]])"
     },
     "execution_count": 23,
     "metadata": {},
     "output_type": "execute_result"
    }
   ],
   "source": [
    "a**2"
   ],
   "metadata": {
    "collapsed": false,
    "pycharm": {
     "name": "#%%\n"
    }
   }
  },
  {
   "cell_type": "code",
   "execution_count": 24,
   "outputs": [
    {
     "data": {
      "text/plain": "array([[False,  True,  True],\n       [ True,  True,  True]])"
     },
     "execution_count": 24,
     "metadata": {},
     "output_type": "execute_result"
    }
   ],
   "source": [
    "c = a/2\n",
    "c > 0.5\n",
    "\n"
   ],
   "metadata": {
    "collapsed": false,
    "pycharm": {
     "name": "#%%\n"
    }
   }
  },
  {
   "cell_type": "code",
   "execution_count": 25,
   "outputs": [
    {
     "data": {
      "text/plain": "(array([0, 0, 1, 1, 1], dtype=int64), array([1, 2, 0, 1, 2], dtype=int64))"
     },
     "execution_count": 25,
     "metadata": {},
     "output_type": "execute_result"
    }
   ],
   "source": [
    "np.nonzero(c > 0.5)"
   ],
   "metadata": {
    "collapsed": false,
    "pycharm": {
     "name": "#%%\n"
    }
   }
  },
  {
   "cell_type": "code",
   "execution_count": 26,
   "outputs": [
    {
     "name": "stdout",
     "output_type": "stream",
     "text": [
      "[[0.5 1.  1.5]\n",
      " [2.  2.5 3. ]]\n"
     ]
    },
    {
     "data": {
      "text/plain": "array([[1. ],\n       [2.5]])"
     },
     "execution_count": 26,
     "metadata": {},
     "output_type": "execute_result"
    }
   ],
   "source": [
    "print(c)\n",
    "v = np.array([0,1])\n",
    "c[:,np.nonzero(v > 0.5)[0]]"
   ],
   "metadata": {
    "collapsed": false,
    "pycharm": {
     "name": "#%%\n"
    }
   }
  },
  {
   "cell_type": "code",
   "execution_count": 27,
   "outputs": [
    {
     "name": "stdout",
     "output_type": "stream",
     "text": [
      "[[0.5 1.  1.5]\n",
      " [2.  2.5 3. ]]\n"
     ]
    },
    {
     "data": {
      "text/plain": "array([[1. ],\n       [2.5]])"
     },
     "execution_count": 27,
     "metadata": {},
     "output_type": "execute_result"
    }
   ],
   "source": [
    "print(c)\n",
    "v = np.array([0,1,0])\n",
    "c[:, v.T > 0.5]"
   ],
   "metadata": {
    "collapsed": false,
    "pycharm": {
     "name": "#%%\n"
    }
   }
  },
  {
   "cell_type": "code",
   "execution_count": 28,
   "outputs": [
    {
     "data": {
      "text/plain": "array([[0. , 0. , 1.5],\n       [2. , 2.5, 3. ]])"
     },
     "execution_count": 28,
     "metadata": {},
     "output_type": "execute_result"
    }
   ],
   "source": [
    "d = c\n",
    "d[d < 1.5]=0\n",
    "d"
   ],
   "metadata": {
    "collapsed": false,
    "pycharm": {
     "name": "#%%\n"
    }
   }
  },
  {
   "cell_type": "code",
   "execution_count": 29,
   "outputs": [
    {
     "data": {
      "text/plain": "array([[0. , 0. , 1.5],\n       [2. , 2.5, 3. ]])"
     },
     "execution_count": 29,
     "metadata": {},
     "output_type": "execute_result"
    }
   ],
   "source": [
    "d = c\n",
    "d * (d > 0.5)"
   ],
   "metadata": {
    "collapsed": false,
    "pycharm": {
     "name": "#%%\n"
    }
   }
  },
  {
   "cell_type": "code",
   "execution_count": 30,
   "outputs": [
    {
     "data": {
      "text/plain": "array([[3., 3., 3.],\n       [3., 3., 3.]])"
     },
     "execution_count": 30,
     "metadata": {},
     "output_type": "execute_result"
    }
   ],
   "source": [
    "d[:] = 3\n",
    "d"
   ],
   "metadata": {
    "collapsed": false,
    "pycharm": {
     "name": "#%%\n"
    }
   }
  },
  {
   "cell_type": "code",
   "execution_count": 31,
   "outputs": [
    {
     "data": {
      "text/plain": "array([[1., 2., 3.],\n       [4., 5., 6.]])"
     },
     "execution_count": 31,
     "metadata": {},
     "output_type": "execute_result"
    }
   ],
   "source": [
    "x = np.array([[1. ,2. ,3.], [4. ,5. ,6.]])\n",
    "y = x.copy()\n",
    "y"
   ],
   "metadata": {
    "collapsed": false,
    "pycharm": {
     "name": "#%%\n"
    }
   }
  },
  {
   "cell_type": "code",
   "execution_count": 32,
   "outputs": [
    {
     "data": {
      "text/plain": "array([4., 5., 6.])"
     },
     "execution_count": 32,
     "metadata": {},
     "output_type": "execute_result"
    }
   ],
   "source": [
    "y = x[1, :].copy()\n",
    "y"
   ],
   "metadata": {
    "collapsed": false,
    "pycharm": {
     "name": "#%%\n"
    }
   }
  },
  {
   "cell_type": "code",
   "execution_count": 33,
   "outputs": [
    {
     "data": {
      "text/plain": "array([1., 2., 3., 4., 5., 6.])"
     },
     "execution_count": 33,
     "metadata": {},
     "output_type": "execute_result"
    }
   ],
   "source": [
    "y = x.flatten()\n",
    "y"
   ],
   "metadata": {
    "collapsed": false,
    "pycharm": {
     "name": "#%%\n"
    }
   }
  },
  {
   "cell_type": "code",
   "execution_count": 34,
   "outputs": [
    {
     "name": "stdout",
     "output_type": "stream",
     "text": [
      "[0. 1. 2. 3. 4. 5. 6. 7. 8. 9.]\n",
      "[0. 1. 2. 3. 4. 5. 6. 7. 8. 9.]\n"
     ]
    },
    {
     "data": {
      "text/plain": "array([0., 1., 2., 3., 4., 5., 6., 7., 8., 9.])"
     },
     "execution_count": 34,
     "metadata": {},
     "output_type": "execute_result"
    }
   ],
   "source": [
    "print(np.arange(10.) )\n",
    "print(np.r_[:10.])\n",
    "np.r_[:9:10j]"
   ],
   "metadata": {
    "collapsed": false,
    "pycharm": {
     "name": "#%%\n"
    }
   }
  },
  {
   "cell_type": "code",
   "execution_count": 35,
   "outputs": [
    {
     "data": {
      "text/plain": "array([[ 1.],\n       [ 2.],\n       [ 3.],\n       [ 4.],\n       [ 5.],\n       [ 6.],\n       [ 7.],\n       [ 8.],\n       [ 9.],\n       [10.]])"
     },
     "execution_count": 35,
     "metadata": {},
     "output_type": "execute_result"
    }
   ],
   "source": [
    "np.arange(1.,11.)[:, np.newaxis]"
   ],
   "metadata": {
    "collapsed": false,
    "pycharm": {
     "name": "#%%\n"
    }
   }
  },
  {
   "cell_type": "code",
   "execution_count": 36,
   "outputs": [
    {
     "data": {
      "text/plain": "array([[0., 0., 0., 0.],\n       [0., 0., 0., 0.],\n       [0., 0., 0., 0.]])"
     },
     "execution_count": 36,
     "metadata": {},
     "output_type": "execute_result"
    }
   ],
   "source": [
    "np.zeros((3, 4))"
   ],
   "metadata": {
    "collapsed": false,
    "pycharm": {
     "name": "#%%\n"
    }
   }
  },
  {
   "cell_type": "code",
   "execution_count": 37,
   "outputs": [
    {
     "data": {
      "text/plain": "array([[[0., 0., 0., 0., 0.],\n        [0., 0., 0., 0., 0.],\n        [0., 0., 0., 0., 0.],\n        [0., 0., 0., 0., 0.]],\n\n       [[0., 0., 0., 0., 0.],\n        [0., 0., 0., 0., 0.],\n        [0., 0., 0., 0., 0.],\n        [0., 0., 0., 0., 0.]],\n\n       [[0., 0., 0., 0., 0.],\n        [0., 0., 0., 0., 0.],\n        [0., 0., 0., 0., 0.],\n        [0., 0., 0., 0., 0.]]])"
     },
     "execution_count": 37,
     "metadata": {},
     "output_type": "execute_result"
    }
   ],
   "source": [
    "np.zeros((3, 4, 5))"
   ],
   "metadata": {
    "collapsed": false,
    "pycharm": {
     "name": "#%%\n"
    }
   }
  },
  {
   "cell_type": "code",
   "execution_count": 38,
   "outputs": [
    {
     "data": {
      "text/plain": "array([[1., 1., 1., 1.],\n       [1., 1., 1., 1.],\n       [1., 1., 1., 1.]])"
     },
     "execution_count": 38,
     "metadata": {},
     "output_type": "execute_result"
    }
   ],
   "source": [
    "np.ones((3, 4))"
   ],
   "metadata": {
    "collapsed": false,
    "pycharm": {
     "name": "#%%\n"
    }
   }
  },
  {
   "cell_type": "code",
   "execution_count": 39,
   "outputs": [
    {
     "data": {
      "text/plain": "array([[1., 0., 0.],\n       [0., 1., 0.],\n       [0., 0., 1.]])"
     },
     "execution_count": 39,
     "metadata": {},
     "output_type": "execute_result"
    }
   ],
   "source": [
    "np.eye(3)"
   ],
   "metadata": {
    "collapsed": false,
    "pycharm": {
     "name": "#%%\n"
    }
   }
  },
  {
   "cell_type": "code",
   "execution_count": 40,
   "outputs": [
    {
     "data": {
      "text/plain": "array([1., 5.])"
     },
     "execution_count": 40,
     "metadata": {},
     "output_type": "execute_result"
    }
   ],
   "source": [
    "a = np.array([[1. ,2. ,3.], [4. ,5. ,6.]])\n",
    "np.diag(a)"
   ],
   "metadata": {
    "collapsed": false,
    "pycharm": {
     "name": "#%%\n"
    }
   }
  },
  {
   "cell_type": "code",
   "execution_count": 41,
   "outputs": [
    {
     "data": {
      "text/plain": "array([[1., 0., 0., 0., 0., 0.],\n       [0., 2., 0., 0., 0., 0.],\n       [0., 0., 3., 0., 0., 0.],\n       [0., 0., 0., 4., 0., 0.],\n       [0., 0., 0., 0., 5., 0.],\n       [0., 0., 0., 0., 0., 6.]])"
     },
     "execution_count": 41,
     "metadata": {},
     "output_type": "execute_result"
    }
   ],
   "source": [
    "v = np.array([1. ,2. ,3., 4. ,5. ,6.])\n",
    "np.diag(v, 0)"
   ],
   "metadata": {
    "collapsed": false,
    "pycharm": {
     "name": "#%%\n"
    }
   }
  },
  {
   "cell_type": "code",
   "execution_count": 42,
   "outputs": [
    {
     "name": "stdout",
     "output_type": "stream",
     "text": [
      "[[0.77395605 0.43887844 0.85859792 0.69736803]\n",
      " [0.09417735 0.97562235 0.7611397  0.78606431]\n",
      " [0.12811363 0.45038594 0.37079802 0.92676499]]\n"
     ]
    },
    {
     "data": {
      "text/plain": "array([[0.42196616, 0.04415236, 0.59126324, 0.03820889],\n       [0.40424991, 0.56189035, 0.69562858, 0.87668152],\n       [0.12695111, 0.20820623, 0.29535498, 0.19792265]])"
     },
     "execution_count": 42,
     "metadata": {},
     "output_type": "execute_result"
    }
   ],
   "source": [
    "rng = np.random.default_rng(42)\n",
    "print(rng.random((3, 4)))\n",
    "np.random.rand(3, 4)"
   ],
   "metadata": {
    "collapsed": false,
    "pycharm": {
     "name": "#%%\n"
    }
   }
  },
  {
   "cell_type": "code",
   "execution_count": 43,
   "outputs": [
    {
     "data": {
      "text/plain": "array([1.        , 1.66666667, 2.33333333, 3.        ])"
     },
     "execution_count": 43,
     "metadata": {},
     "output_type": "execute_result"
    }
   ],
   "source": [
    "np.linspace(1,3,4)"
   ],
   "metadata": {
    "collapsed": false,
    "pycharm": {
     "name": "#%%\n"
    }
   }
  },
  {
   "cell_type": "code",
   "execution_count": 44,
   "outputs": [
    {
     "name": "stdout",
     "output_type": "stream",
     "text": [
      "[[[0. 0. 0. 0. 0. 0.]\n",
      "  [1. 1. 1. 1. 1. 1.]\n",
      "  [2. 2. 2. 2. 2. 2.]\n",
      "  [3. 3. 3. 3. 3. 3.]\n",
      "  [4. 4. 4. 4. 4. 4.]\n",
      "  [5. 5. 5. 5. 5. 5.]\n",
      "  [6. 6. 6. 6. 6. 6.]\n",
      "  [7. 7. 7. 7. 7. 7.]\n",
      "  [8. 8. 8. 8. 8. 8.]]\n",
      "\n",
      " [[0. 1. 2. 3. 4. 5.]\n",
      "  [0. 1. 2. 3. 4. 5.]\n",
      "  [0. 1. 2. 3. 4. 5.]\n",
      "  [0. 1. 2. 3. 4. 5.]\n",
      "  [0. 1. 2. 3. 4. 5.]\n",
      "  [0. 1. 2. 3. 4. 5.]\n",
      "  [0. 1. 2. 3. 4. 5.]\n",
      "  [0. 1. 2. 3. 4. 5.]\n",
      "  [0. 1. 2. 3. 4. 5.]]]\n"
     ]
    },
    {
     "data": {
      "text/plain": "[array([[0., 1., 2., 3., 4., 5., 6., 7., 8.],\n        [0., 1., 2., 3., 4., 5., 6., 7., 8.],\n        [0., 1., 2., 3., 4., 5., 6., 7., 8.],\n        [0., 1., 2., 3., 4., 5., 6., 7., 8.],\n        [0., 1., 2., 3., 4., 5., 6., 7., 8.],\n        [0., 1., 2., 3., 4., 5., 6., 7., 8.]]),\n array([[0., 0., 0., 0., 0., 0., 0., 0., 0.],\n        [1., 1., 1., 1., 1., 1., 1., 1., 1.],\n        [2., 2., 2., 2., 2., 2., 2., 2., 2.],\n        [3., 3., 3., 3., 3., 3., 3., 3., 3.],\n        [4., 4., 4., 4., 4., 4., 4., 4., 4.],\n        [5., 5., 5., 5., 5., 5., 5., 5., 5.]])]"
     },
     "execution_count": 44,
     "metadata": {},
     "output_type": "execute_result"
    }
   ],
   "source": [
    "print(np.mgrid[0:9.,0:6.] )\n",
    "np.meshgrid(np.r_[0:9.],np.r_[0:6.])"
   ],
   "metadata": {
    "collapsed": false,
    "pycharm": {
     "name": "#%%\n"
    }
   }
  },
  {
   "cell_type": "code",
   "execution_count": 45,
   "outputs": [
    {
     "name": "stdout",
     "output_type": "stream",
     "text": [
      "[array([[0.],\n",
      "       [1.],\n",
      "       [2.],\n",
      "       [3.],\n",
      "       [4.],\n",
      "       [5.],\n",
      "       [6.],\n",
      "       [7.],\n",
      "       [8.]]), array([[0., 1., 2., 3., 4., 5.]])]\n"
     ]
    },
    {
     "data": {
      "text/plain": "(array([[0.],\n        [1.],\n        [2.],\n        [3.],\n        [4.],\n        [5.],\n        [6.],\n        [7.],\n        [8.]]),\n array([[0., 1., 2., 3., 4., 5.]]))"
     },
     "execution_count": 45,
     "metadata": {},
     "output_type": "execute_result"
    }
   ],
   "source": [
    "print(np.ogrid[0:9.,0:6.])\n",
    "np.ix_(np.r_[0:9.],np.r_[0:6.])"
   ],
   "metadata": {
    "collapsed": false,
    "pycharm": {
     "name": "#%%\n"
    }
   }
  },
  {
   "cell_type": "code",
   "execution_count": 46,
   "outputs": [
    {
     "name": "stdout",
     "output_type": "stream",
     "text": [
      "[array([[1, 2, 4],\n",
      "       [1, 2, 4],\n",
      "       [1, 2, 4]]), array([[2, 2, 2],\n",
      "       [4, 4, 4],\n",
      "       [5, 5, 5]])]\n"
     ]
    },
    {
     "data": {
      "text/plain": "(array([[1],\n        [2],\n        [4]]),\n array([[2, 4, 5]]))"
     },
     "execution_count": 46,
     "metadata": {},
     "output_type": "execute_result"
    }
   ],
   "source": [
    "print(np.meshgrid([1,2,4],[2,4,5]))\n",
    "np.ix_([1,2,4],[2,4,5])\n"
   ],
   "metadata": {
    "collapsed": false,
    "pycharm": {
     "name": "#%%\n"
    }
   }
  },
  {
   "cell_type": "code",
   "execution_count": 47,
   "outputs": [
    {
     "data": {
      "text/plain": "array([[1., 2., 3., 1., 2., 3.],\n       [4., 5., 6., 4., 5., 6.],\n       [1., 2., 3., 1., 2., 3.],\n       [4., 5., 6., 4., 5., 6.],\n       [1., 2., 3., 1., 2., 3.],\n       [4., 5., 6., 4., 5., 6.]])"
     },
     "execution_count": 47,
     "metadata": {},
     "output_type": "execute_result"
    }
   ],
   "source": [
    "a = np.array([[1. ,2. ,3.], [4. ,5. ,6.]])\n",
    "np.tile(a,(3,2))\n"
   ],
   "metadata": {
    "collapsed": false,
    "pycharm": {
     "name": "#%%\n"
    }
   }
  },
  {
   "cell_type": "code",
   "execution_count": 48,
   "outputs": [
    {
     "name": "stdout",
     "output_type": "stream",
     "text": [
      "[[ 1.  2.  3.  7.  8.  9.]\n",
      " [ 4.  5.  6. 10. 11. 12.]]\n",
      "[[ 1.  2.  3.  7.  8.  9.]\n",
      " [ 4.  5.  6. 10. 11. 12.]]\n",
      "[[ 1.  2.  3.  7.  8.  9.]\n",
      " [ 4.  5.  6. 10. 11. 12.]]\n"
     ]
    },
    {
     "data": {
      "text/plain": "array([[ 1.,  2.,  3.,  7.,  8.,  9.],\n       [ 4.,  5.,  6., 10., 11., 12.]])"
     },
     "execution_count": 48,
     "metadata": {},
     "output_type": "execute_result"
    }
   ],
   "source": [
    "b = np.array([[1. ,2. ,3.], [4. ,5. ,6.]])\n",
    "b += 6\n",
    "print(np.concatenate((a,b),1))\n",
    "print(np.hstack((a,b)) )\n",
    "print(np.column_stack((a,b)))\n",
    "np.c_[a,b]"
   ],
   "metadata": {
    "collapsed": false,
    "pycharm": {
     "name": "#%%\n"
    }
   }
  },
  {
   "cell_type": "code",
   "execution_count": 49,
   "outputs": [
    {
     "name": "stdout",
     "output_type": "stream",
     "text": [
      "[[ 1.  2.  3.]\n",
      " [ 4.  5.  6.]\n",
      " [ 7.  8.  9.]\n",
      " [10. 11. 12.]]\n",
      "[[ 1.  2.  3.]\n",
      " [ 4.  5.  6.]\n",
      " [ 7.  8.  9.]\n",
      " [10. 11. 12.]]\n"
     ]
    },
    {
     "data": {
      "text/plain": "array([[ 1.,  2.,  3.],\n       [ 4.,  5.,  6.],\n       [ 7.,  8.,  9.],\n       [10., 11., 12.]])"
     },
     "execution_count": 49,
     "metadata": {},
     "output_type": "execute_result"
    }
   ],
   "source": [
    "print(np.concatenate((a,b)))\n",
    "print(np.vstack((a,b)) )\n",
    "np.r_[a,b]\n"
   ],
   "metadata": {
    "collapsed": false,
    "pycharm": {
     "name": "#%%\n"
    }
   }
  },
  {
   "cell_type": "code",
   "execution_count": 50,
   "outputs": [
    {
     "data": {
      "text/plain": "6.0"
     },
     "execution_count": 50,
     "metadata": {},
     "output_type": "execute_result"
    }
   ],
   "source": [
    "a.max()"
   ],
   "metadata": {
    "collapsed": false,
    "pycharm": {
     "name": "#%%\n"
    }
   }
  },
  {
   "cell_type": "code",
   "execution_count": 51,
   "outputs": [
    {
     "data": {
      "text/plain": "array([4., 5., 6.])"
     },
     "execution_count": 51,
     "metadata": {},
     "output_type": "execute_result"
    }
   ],
   "source": [
    "a.max(0)"
   ],
   "metadata": {
    "collapsed": false,
    "pycharm": {
     "name": "#%%\n"
    }
   }
  },
  {
   "cell_type": "code",
   "execution_count": 52,
   "outputs": [
    {
     "data": {
      "text/plain": "array([3., 6.])"
     },
     "execution_count": 52,
     "metadata": {},
     "output_type": "execute_result"
    }
   ],
   "source": [
    "a.max(1)"
   ],
   "metadata": {
    "collapsed": false,
    "pycharm": {
     "name": "#%%\n"
    }
   }
  },
  {
   "cell_type": "code",
   "execution_count": 53,
   "outputs": [
    {
     "data": {
      "text/plain": "array([[ 7.,  8.,  9.],\n       [10., 11., 12.]])"
     },
     "execution_count": 53,
     "metadata": {},
     "output_type": "execute_result"
    }
   ],
   "source": [
    "np.maximum(a, b)"
   ],
   "metadata": {
    "collapsed": false,
    "pycharm": {
     "name": "#%%\n"
    }
   }
  },
  {
   "cell_type": "code",
   "execution_count": 54,
   "outputs": [
    {
     "data": {
      "text/plain": "9.539392014169456"
     },
     "execution_count": 54,
     "metadata": {},
     "output_type": "execute_result"
    }
   ],
   "source": [
    "np.linalg.norm(a)"
   ],
   "metadata": {
    "collapsed": false,
    "pycharm": {
     "name": "#%%\n"
    }
   }
  },
  {
   "cell_type": "code",
   "execution_count": 55,
   "outputs": [
    {
     "data": {
      "text/plain": "array([[ True,  True,  True],\n       [ True,  True,  True]])"
     },
     "execution_count": 55,
     "metadata": {},
     "output_type": "execute_result"
    }
   ],
   "source": [
    "np.logical_and(a,b)"
   ],
   "metadata": {
    "collapsed": false,
    "pycharm": {
     "name": "#%%\n"
    }
   }
  },
  {
   "cell_type": "code",
   "execution_count": 56,
   "outputs": [
    {
     "data": {
      "text/plain": "array([[ True,  True,  True],\n       [ True,  True,  True]])"
     },
     "execution_count": 56,
     "metadata": {},
     "output_type": "execute_result"
    }
   ],
   "source": [
    "np.logical_or(a,b)"
   ],
   "metadata": {
    "collapsed": false,
    "pycharm": {
     "name": "#%%\n"
    }
   }
  },
  {
   "cell_type": "code",
   "execution_count": 57,
   "outputs": [
    {
     "data": {
      "text/plain": "4"
     },
     "execution_count": 57,
     "metadata": {},
     "output_type": "execute_result"
    }
   ],
   "source": [
    "c = 5\n",
    "d = 6\n",
    "c & d"
   ],
   "metadata": {
    "collapsed": false,
    "pycharm": {
     "name": "#%%\n"
    }
   }
  },
  {
   "cell_type": "code",
   "execution_count": 58,
   "outputs": [
    {
     "data": {
      "text/plain": "7"
     },
     "execution_count": 58,
     "metadata": {},
     "output_type": "execute_result"
    }
   ],
   "source": [
    "c | d"
   ],
   "metadata": {
    "collapsed": false,
    "pycharm": {
     "name": "#%%\n"
    }
   }
  },
  {
   "cell_type": "code",
   "execution_count": 59,
   "outputs": [
    {
     "data": {
      "text/plain": "array([[-2. ,  1. ],\n       [ 1.5, -0.5]])"
     },
     "execution_count": 59,
     "metadata": {},
     "output_type": "execute_result"
    }
   ],
   "source": [
    "a = np.array([[1,2],[3,4]])\n",
    "np.linalg.inv(a)"
   ],
   "metadata": {
    "collapsed": false,
    "pycharm": {
     "name": "#%%\n"
    }
   }
  },
  {
   "cell_type": "code",
   "execution_count": 60,
   "outputs": [
    {
     "data": {
      "text/plain": "array([[-2. ,  1. ],\n       [ 1.5, -0.5]])"
     },
     "execution_count": 60,
     "metadata": {},
     "output_type": "execute_result"
    }
   ],
   "source": [
    "np.linalg.pinv(a)"
   ],
   "metadata": {
    "collapsed": false,
    "pycharm": {
     "name": "#%%\n"
    }
   }
  },
  {
   "cell_type": "code",
   "execution_count": 61,
   "outputs": [
    {
     "data": {
      "text/plain": "2"
     },
     "execution_count": 61,
     "metadata": {},
     "output_type": "execute_result"
    }
   ],
   "source": [
    "np.linalg.matrix_rank(a)"
   ],
   "metadata": {
    "collapsed": false,
    "pycharm": {
     "name": "#%%\n"
    }
   }
  },
  {
   "cell_type": "code",
   "execution_count": 62,
   "outputs": [
    {
     "name": "stdout",
     "output_type": "stream",
     "text": [
      "(array([[ 2.00000000e+00, -2.00619055e-16],\n",
      "       [-1.20371433e-15,  2.00000000e+00]]), array([], dtype=float64), 2, array([5.4649857 , 0.36596619]))\n"
     ]
    },
    {
     "name": "stderr",
     "output_type": "stream",
     "text": [
      "C:\\Users\\gaozh\\AppData\\Local\\Temp\\ipykernel_35200\\1981278641.py:2: FutureWarning: `rcond` parameter will change to the default of machine precision times ``max(M, N)`` where M and N are the input matrix dimensions.\n",
      "To use the future default and silence this warning we advise to pass `rcond=None`, to keep using the old, explicitly pass `rcond=-1`.\n",
      "  print(np.linalg.lstsq(a, b))\n"
     ]
    },
    {
     "data": {
      "text/plain": "array([[2.00000000e+00, 0.00000000e+00],\n       [1.66533454e-16, 2.00000000e+00]])"
     },
     "execution_count": 62,
     "metadata": {},
     "output_type": "execute_result"
    }
   ],
   "source": [
    "b = a * 2\n",
    "print(np.linalg.lstsq(a, b))\n",
    "np.linalg.solve(a, b)"
   ],
   "metadata": {
    "collapsed": false,
    "pycharm": {
     "name": "#%%\n"
    }
   }
  },
  {
   "cell_type": "code",
   "execution_count": 63,
   "outputs": [
    {
     "data": {
      "text/plain": "array([[-0.57604844,  0.81741556],\n       [-0.81741556, -0.57604844]])"
     },
     "execution_count": 63,
     "metadata": {},
     "output_type": "execute_result"
    }
   ],
   "source": [
    "U, S, Vh = np.linalg.svd(a)\n",
    "V = Vh.T\n",
    "V\n"
   ],
   "metadata": {
    "collapsed": false,
    "pycharm": {
     "name": "#%%\n"
    }
   }
  },
  {
   "cell_type": "code",
   "execution_count": 64,
   "outputs": [
    {
     "data": {
      "text/plain": "array([[2.23606798, 0.        ],\n       [4.91934955, 0.89442719]])"
     },
     "execution_count": 64,
     "metadata": {},
     "output_type": "execute_result"
    }
   ],
   "source": [
    "c = a@a.T\n",
    "b = np.linalg.cholesky(c)\n",
    "b"
   ],
   "metadata": {
    "collapsed": false,
    "pycharm": {
     "name": "#%%\n"
    }
   }
  },
  {
   "cell_type": "code",
   "execution_count": 65,
   "outputs": [
    {
     "data": {
      "text/plain": "(array([-0.37228132,  5.37228132]),\n array([[-0.82456484, -0.41597356],\n        [ 0.56576746, -0.90937671]]))"
     },
     "execution_count": 65,
     "metadata": {},
     "output_type": "execute_result"
    }
   ],
   "source": [
    "D,V = np.linalg.eig(a)\n",
    "D,V"
   ],
   "metadata": {
    "collapsed": false,
    "pycharm": {
     "name": "#%%\n"
    }
   }
  },
  {
   "cell_type": "code",
   "execution_count": 66,
   "outputs": [
    {
     "data": {
      "text/plain": "(array([0.5+0.j, 0.5+0.j]),\n array([[-1., -0.],\n        [-0., -1.]]))"
     },
     "execution_count": 66,
     "metadata": {},
     "output_type": "execute_result"
    }
   ],
   "source": [
    "import scipy.linalg\n",
    "b = 2 * a\n",
    "D,V = scipy.linalg.eig(a, b)\n",
    "D,V"
   ],
   "metadata": {
    "collapsed": false,
    "pycharm": {
     "name": "#%%\n"
    }
   }
  },
  {
   "cell_type": "code",
   "execution_count": 67,
   "outputs": [
    {
     "data": {
      "text/plain": "(array([1.+0.j, 1.+0.j, 1.+0.j, 1.+0.j, 1.+0.j, 1.+0.j]),\n array([[-6.36570140e-02+0.j, -5.10338949e-01+0.j, -2.41114702e-01+0.j,\n         -1.75693003e-01+0.j, -2.23870980e-02+0.j, -4.07173713e-01+0.j],\n        [ 1.59704732e-01+0.j, -1.29260460e-01+0.j,  4.86868106e-02+0.j,\n          1.20087412e-01+0.j,  1.38068260e-03+0.j, -1.71405907e-01+0.j],\n        [ 6.60250982e-03+0.j, -4.86598824e-01+0.j, -7.84283251e-02+0.j,\n         -2.30816803e-01+0.j,  5.83807196e-02+0.j,  2.11956406e-01+0.j],\n        [ 3.92586856e-01+0.j,  2.09875576e-01+0.j,  7.03791822e-02+0.j,\n          1.28845635e-01+0.j,  6.23330909e-02+0.j, -3.07309819e-01+0.j],\n        [-1.54796514e-02+0.j,  1.38356649e-02+0.j,  5.41512679e-02+0.j,\n         -1.11535127e-01+0.j, -7.35643816e-03+0.j, -3.70210392e-02+0.j],\n        [ 2.81137291e-04+0.j,  4.10108881e-04+0.j, -8.62979063e-04+0.j,\n         -1.17604409e-03+0.j, -9.89976762e-01+0.j,  5.85961216e-03+0.j],\n        [-2.75531151e-02+0.j, -1.78830252e-01+0.j, -6.40627883e-02+0.j,\n         -8.62574263e-02+0.j, -6.11741131e-02+0.j,  2.68144106e-01+0.j],\n        [-6.01140911e-01+0.j, -2.31318056e-01+0.j,  1.06731562e-01+0.j,\n          3.00177876e-01+0.j,  1.98563809e-02+0.j, -4.20793667e-01+0.j],\n        [-3.33255256e-01+0.j,  3.57798584e-01+0.j,  1.56958692e-01+0.j,\n          1.23557455e-02+0.j, -2.37895842e-02+0.j,  2.53857553e-01+0.j],\n        [-3.73273137e-01+0.j,  2.66951622e-01+0.j,  8.98892885e-02+0.j,\n         -1.51752803e-01+0.j,  1.99803006e-02+0.j, -1.26172890e-01+0.j],\n        [ 1.19328869e-01+0.j, -3.33018655e-01+0.j,  8.23072423e-01+0.j,\n          1.44129419e-01+0.j, -4.55397419e-02+0.j,  3.58793794e-01+0.j],\n        [ 2.26515295e-01+0.j,  1.90039592e-01+0.j,  4.46747422e-01+0.j,\n         -7.30821055e-01+0.j, -5.38213238e-02+0.j, -4.24098356e-01+0.j],\n        [-3.71435626e-01+0.j, -1.00201573e-01+0.j,  1.45843587e-02+0.j,\n         -4.43610795e-01+0.j,  4.49752583e-02+0.j,  1.61665144e-01+0.j]]))"
     },
     "execution_count": 67,
     "metadata": {},
     "output_type": "execute_result"
    }
   ],
   "source": [
    "from scipy.sparse.linalg import eigs\n",
    "id = np.eye(13)\n",
    "D,V = eigs(id, k=6)\n",
    "D,V"
   ],
   "metadata": {
    "collapsed": false,
    "pycharm": {
     "name": "#%%\n"
    }
   }
  },
  {
   "cell_type": "code",
   "execution_count": 68,
   "outputs": [
    {
     "data": {
      "text/plain": "(array([[-0.31622777, -0.9486833 ],\n        [-0.9486833 ,  0.31622777]]),\n array([[-3.16227766, -4.42718872],\n        [ 0.        , -0.63245553]]))"
     },
     "execution_count": 68,
     "metadata": {},
     "output_type": "execute_result"
    }
   ],
   "source": [
    "Q,R = np.linalg.qr(a)\n",
    "Q,R"
   ],
   "metadata": {
    "collapsed": false,
    "pycharm": {
     "name": "#%%\n"
    }
   }
  },
  {
   "cell_type": "code",
   "execution_count": 69,
   "outputs": [
    {
     "data": {
      "text/plain": "(array([[0., 1.],\n        [1., 0.]]),\n array([[1.        , 0.        ],\n        [0.33333333, 1.        ]]),\n array([[3.        , 4.        ],\n        [0.        , 0.66666667]]))"
     },
     "execution_count": 69,
     "metadata": {},
     "output_type": "execute_result"
    }
   ],
   "source": [
    "P,L,U = scipy.linalg.lu(a)\n",
    "P,L,U"
   ],
   "metadata": {
    "collapsed": false,
    "pycharm": {
     "name": "#%%\n"
    }
   }
  },
  {
   "cell_type": "code",
   "execution_count": 70,
   "outputs": [
    {
     "data": {
      "text/plain": "<function scipy.sparse.linalg.isolve.iterative.cg(A, b, x0=None, tol=1e-05, maxiter=None, M=None, callback=None, atol=None)>"
     },
     "execution_count": 70,
     "metadata": {},
     "output_type": "execute_result"
    }
   ],
   "source": [
    "scipy.sparse.linalg.cg"
   ],
   "metadata": {
    "collapsed": false,
    "pycharm": {
     "name": "#%%\n"
    }
   }
  },
  {
   "cell_type": "code",
   "execution_count": 71,
   "outputs": [
    {
     "data": {
      "text/plain": "array([[ 3.+0.j, -1.+0.j],\n       [ 7.+0.j, -1.+0.j]])"
     },
     "execution_count": 71,
     "metadata": {},
     "output_type": "execute_result"
    }
   ],
   "source": [
    "np.fft.fft(a)"
   ],
   "metadata": {
    "collapsed": false,
    "pycharm": {
     "name": "#%%\n"
    }
   }
  },
  {
   "cell_type": "code",
   "execution_count": 72,
   "outputs": [
    {
     "data": {
      "text/plain": "array([[ 1.5+0.j, -0.5+0.j],\n       [ 3.5+0.j, -0.5+0.j]])"
     },
     "execution_count": 72,
     "metadata": {},
     "output_type": "execute_result"
    }
   ],
   "source": [
    "np.fft.ifft(a)"
   ],
   "metadata": {
    "collapsed": false,
    "pycharm": {
     "name": "#%%\n"
    }
   }
  },
  {
   "cell_type": "code",
   "execution_count": 73,
   "outputs": [
    {
     "name": "stdout",
     "output_type": "stream",
     "text": [
      "[[1 2]\n",
      " [3 4]]\n"
     ]
    }
   ],
   "source": [
    "print(np.sort(a))\n",
    "a.sort(axis=0)"
   ],
   "metadata": {
    "collapsed": false,
    "pycharm": {
     "name": "#%%\n"
    }
   }
  },
  {
   "cell_type": "code",
   "execution_count": 74,
   "outputs": [
    {
     "name": "stdout",
     "output_type": "stream",
     "text": [
      "[[1 2]\n",
      " [3 4]]\n"
     ]
    }
   ],
   "source": [
    "print(np.sort(a, axis = 1))\n",
    "a.sort(axis = 1)"
   ],
   "metadata": {
    "collapsed": false,
    "pycharm": {
     "name": "#%%\n"
    }
   }
  },
  {
   "cell_type": "code",
   "execution_count": 75,
   "outputs": [
    {
     "data": {
      "text/plain": "array([[1, 2],\n       [3, 4]])"
     },
     "execution_count": 75,
     "metadata": {},
     "output_type": "execute_result"
    }
   ],
   "source": [
    "I = np.argsort(a[:, 0])\n",
    "b = a[I,:]\n",
    "b"
   ],
   "metadata": {
    "collapsed": false,
    "pycharm": {
     "name": "#%%\n"
    }
   }
  },
  {
   "cell_type": "code",
   "execution_count": 76,
   "outputs": [
    {
     "data": {
      "text/plain": "(0.9999999999999997, -0.9499999999999987)"
     },
     "execution_count": 76,
     "metadata": {},
     "output_type": "execute_result"
    }
   ],
   "source": [
    "x = np.array([0, 1, 2, 3])\n",
    "y = np.array([-1, 0.2, 0.9, 2.1])\n",
    "A = np.vstack([x, np.ones(len(x))]).T\n",
    "m, c = np.linalg.lstsq(A, y, rcond=None)[0]\n",
    "m, c"
   ],
   "metadata": {
    "collapsed": false,
    "pycharm": {
     "name": "#%%\n"
    }
   }
  },
  {
   "cell_type": "code",
   "execution_count": 77,
   "outputs": [
    {
     "data": {
      "text/plain": "array([ 1.        ,  1.23283311,  1.31727019,  1.27302765,  1.14740269,\n        0.99913207,  0.88078847,  0.82497964,  0.83806509,  0.90249922,\n        0.98614323,  1.05486   ,  1.08402435,  1.06536954,  1.00747904,\n        0.93050762,  0.85758366,  0.80620995,  0.78263328,  0.78081837,\n        0.78588726,  0.78033048,  0.75048699,  0.69094819,  0.60552319,\n        0.50478221,  0.40143727,  0.30548407,  0.22092394,  0.14511765,\n        0.0707372 , -0.01068719, -0.10512733, -0.21370903, -0.33240564,\n       -0.45366208, -0.56910426, -0.67215691, -0.75955883, -0.83131707,\n       -0.88932657, -0.93540864, -0.9696874 , -0.98998822, -0.9924354 ,\n       -0.97288395, -0.92847886, -0.85863231, -0.76502853, -0.65074937,\n       -0.51903563, -0.37236513, -0.21236454, -0.04065068,  0.13978552,\n        0.3233596 ,  0.50154373,  0.66375109,  0.79927642,  0.89960584,\n        0.96017029,  0.98077748,  0.96447814,  0.91530208,  0.8358487 ,\n        0.7258814 ,  0.58274561,  0.40370101,  0.18940426, -0.0528479 ,\n       -0.30761458, -0.55253797, -0.76231625, -0.91434367, -0.99416302,\n       -0.99876133, -0.93639432, -0.82285784, -0.67549774, -0.50723015,\n       -0.3230094 , -0.12038944,  0.1057018 ,  0.35559088,  0.61779519,\n        0.86547229,  1.0586815 ,  1.15286077,  1.11163922,  0.9202326 ,\n        0.59492066,  0.18484931, -0.23549411, -0.5819343 , -0.78050802,\n       -0.78611604, -0.59448055, -0.24372704,  0.19511472,  0.63613281])"
     },
     "execution_count": 77,
     "metadata": {},
     "output_type": "execute_result"
    }
   ],
   "source": [
    "from scipy import signal\n",
    "x = np.linspace(0, 10, 20, endpoint=False)\n",
    "y = np.cos(-x**2/6.0)\n",
    "signal.resample(y, 100)"
   ],
   "metadata": {
    "collapsed": false,
    "pycharm": {
     "name": "#%%\n"
    }
   }
  },
  {
   "cell_type": "code",
   "execution_count": 78,
   "outputs": [
    {
     "data": {
      "text/plain": "array([1, 2, 3, 4])"
     },
     "execution_count": 78,
     "metadata": {},
     "output_type": "execute_result"
    }
   ],
   "source": [
    "np.unique(a)\n"
   ],
   "metadata": {
    "collapsed": false,
    "pycharm": {
     "name": "#%%\n"
    }
   }
  },
  {
   "cell_type": "code",
   "execution_count": 79,
   "outputs": [
    {
     "data": {
      "text/plain": "array([[1, 2],\n       [3, 4]])"
     },
     "execution_count": 79,
     "metadata": {},
     "output_type": "execute_result"
    }
   ],
   "source": [
    "a.squeeze()"
   ],
   "metadata": {
    "collapsed": false,
    "pycharm": {
     "name": "#%%\n"
    }
   }
  }
 ],
 "metadata": {
  "kernelspec": {
   "name": "comp576",
   "language": "python",
   "display_name": "Python(comp576)"
  },
  "language_info": {
   "codemirror_mode": {
    "name": "ipython",
    "version": 2
   },
   "file_extension": ".py",
   "mimetype": "text/x-python",
   "name": "python",
   "nbconvert_exporter": "python",
   "pygments_lexer": "ipython2",
   "version": "2.7.6"
  }
 },
 "nbformat": 4,
 "nbformat_minor": 0
}